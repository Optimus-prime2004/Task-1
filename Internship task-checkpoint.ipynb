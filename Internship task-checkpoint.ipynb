{
 "cells": [
  {
   "cell_type": "markdown",
   "id": "ba1bf924",
   "metadata": {},
   "source": [
    "# VALLIAPPAN V"
   ]
  },
  {
   "cell_type": "markdown",
   "id": "7f3f3256",
   "metadata": {},
   "source": [
    "# A Project for an internship at \"The Sparks Foundation\""
   ]
  },
  {
   "cell_type": "markdown",
   "id": "b9bcc519",
   "metadata": {},
   "source": [
    "# Task1 - Prediction Using Supervised Machine Learning"
   ]
  },
  {
   "cell_type": "markdown",
   "id": "5e9ba29d",
   "metadata": {},
   "source": [
    "# Batch - June 2023"
   ]
  },
  {
   "cell_type": "markdown",
   "id": "c2085472",
   "metadata": {},
   "source": [
    "# Importing necessary modules"
   ]
  },
  {
   "cell_type": "code",
   "execution_count": null,
   "id": "795950fb",
   "metadata": {},
   "outputs": [],
   "source": [
    "import numpy as np\n",
    "import pandas as pd\n",
    "import matplotlib.pyplot as plt\n",
    "from sklearn.model_selection import train_test_split"
   ]
  },
  {
   "cell_type": "markdown",
   "id": "f582e80f",
   "metadata": {},
   "source": [
    "# Loading and displaying the dataset"
   ]
  },
  {
   "cell_type": "code",
   "execution_count": null,
   "id": "923e2f4b",
   "metadata": {},
   "outputs": [],
   "source": [
    "url = \"http://bit.ly/w-data\"\n",
    "data = pd.read_csv(url)\n",
    "print(\"size:\",data.size,\"; shape\",data.shape)\n",
    "data.head()"
   ]
  },
  {
   "cell_type": "markdown",
   "id": "afe79079",
   "metadata": {},
   "source": [
    "# Plotting the distribution of scores"
   ]
  },
  {
   "cell_type": "code",
   "execution_count": null,
   "id": "dedabcb4",
   "metadata": {},
   "outputs": [],
   "source": [
    "data.plot(x='Hours', y='Scores', style='+', color='red')\n",
    "plt.title('Hours vs Scores')\n",
    "plt.xlabel('Hours taken')\n",
    "plt.ylabel('Score')\n",
    "plt.show()"
   ]
  },
  {
   "cell_type": "markdown",
   "id": "06289909",
   "metadata": {},
   "source": [
    "# Implementing Linear Regression from Scratch"
   ]
  },
  {
   "cell_type": "code",
   "execution_count": null,
   "id": "56cb8a05",
   "metadata": {},
   "outputs": [],
   "source": [
    "class LinearRegression:\n",
    "    def fit(self,X,y):\n",
    "        m = X.shape[0]\n",
    "        X_mean, y_mean = np.mean(X), np.mean(y)\n",
    "        X_mean_diff, y_mean_diff = X-X_mean, y-y_mean\n",
    "        self.b1 = (X_mean_diff @ y_mean_diff) / (X_mean_diff @ X_mean_diff)\n",
    "        self.b0 = y_mean - (self.b1 * X_mean)\n",
    "        print(f\"(b0,b1):({self.b0:.3f},{self.b1:.3f})\")\n",
    "        return self\n",
    "    \n",
    "    def predict(self,X):\n",
    "        return self.b0 + X*self.b1\n",
    "\n",
    "    def evaluate(self,X,y):\n",
    "        y_pred = self.predict(X)\n",
    "        y_diff,y_mean_diff  = y-y_pred , y-np.mean(y)\n",
    "        rmse = np.sqrt(y_diff @ y_diff/X.shape[0])\n",
    "        ss_tot = y_mean_diff @ y_mean_diff\n",
    "        ss_res = y_diff @ y_diff\n",
    "        r2 = 1 - ss_res/ss_tot\n",
    "        print(\"Root mean squared Error:\",rmse)\n",
    "        print(\"R^2 value:\",r2)\n",
    "     "
   ]
  },
  {
   "cell_type": "markdown",
   "id": "a8d7dd01",
   "metadata": {},
   "source": [
    "# Regression Plot Function"
   ]
  },
  {
   "cell_type": "code",
   "execution_count": null,
   "id": "cbd1cc67",
   "metadata": {},
   "outputs": [],
   "source": [
    "def regression_plot(X,y,model,title=\"\"):\n",
    "    plt.figure(figsize=(14,7))\n",
    "    plt.title(title)\n",
    "    plt.xlim(1,10)\n",
    "    plt.ylim(10,100)\n",
    "    plt.xlabel('Hours taken')\n",
    "    plt.ylabel('Score')\n",
    "    \n",
    "    x_line = np.array([np.min(X) - 100,np.max(X) + 100]).reshape(-1,1)\n",
    "    y_line = model.predict(x_line)\n",
    "    \n",
    "    plt.scatter(X, y, color='red', label='Original Data Points')\n",
    "    plt.plot(x_line, y_line, linewidth=2, label='Regression Line')\n",
    "    plt.legend()"
   ]
  },
  {
   "cell_type": "markdown",
   "id": "bad9e5c8",
   "metadata": {},
   "source": [
    "# Training the model and fitting the best fit line"
   ]
  },
  {
   "cell_type": "code",
   "execution_count": null,
   "id": "96fd7cbb",
   "metadata": {},
   "outputs": [],
   "source": [
    "X = data['Hours'].values\n",
    "y = data['Scores'].values\n",
    "X_train,X_test,y_train,y_test = train_test_split(X,y,test_size=0.2)\n",
    "   \n",
    "\n",
    "lin_reg_model= LinearRegression()\n",
    "lin_reg_model.fit(X_train,y_train)\n",
    "regression_plot(X,y,lin_reg_model,title=\"Trained Regression model\")"
   ]
  },
  {
   "cell_type": "markdown",
   "id": "5d6c8d9b",
   "metadata": {},
   "source": [
    "# Testing the model"
   ]
  },
  {
   "cell_type": "code",
   "execution_count": null,
   "id": "b2ecf2d2",
   "metadata": {},
   "outputs": [],
   "source": [
    "y_pred = lin_reg_model.predict(X_test)\n",
    "testing = pd.DataFrame({\"Actual\":y_test , \"Predicted\":y_pred})\n",
    "testing"
   ]
  },
  {
   "cell_type": "markdown",
   "id": "deb4acfe",
   "metadata": {},
   "source": [
    "# Testing the model with study hour '9.25' per day"
   ]
  },
  {
   "cell_type": "code",
   "execution_count": null,
   "id": "45796c34",
   "metadata": {},
   "outputs": [],
   "source": [
    "hours = 9.25\n",
    "test = lin_reg_model.predict(hours)\n",
    "print(f\"Spending 9.25 hours per day will make a student able to score {test:.3f}% marks.\")"
   ]
  },
  {
   "cell_type": "markdown",
   "id": "ef2346ab",
   "metadata": {},
   "source": [
    "# Evaluating the model using \"Root Mean Squared Error\""
   ]
  },
  {
   "cell_type": "code",
   "execution_count": null,
   "id": "a5414c61",
   "metadata": {},
   "outputs": [],
   "source": [
    "evaluate = lin_reg_model.evaluate(X,y)"
   ]
  },
  {
   "cell_type": "markdown",
   "id": "800e4e79",
   "metadata": {},
   "source": [
    "# Thank you"
   ]
  }
 ],
 "metadata": {
  "kernelspec": {
   "display_name": "Python 3 (ipykernel)",
   "language": "python",
   "name": "python3"
  },
  "language_info": {
   "codemirror_mode": {
    "name": "ipython",
    "version": 3
   },
   "file_extension": ".py",
   "mimetype": "text/x-python",
   "name": "python",
   "nbconvert_exporter": "python",
   "pygments_lexer": "ipython3",
   "version": "3.9.12"
  }
 },
 "nbformat": 4,
 "nbformat_minor": 5
}
